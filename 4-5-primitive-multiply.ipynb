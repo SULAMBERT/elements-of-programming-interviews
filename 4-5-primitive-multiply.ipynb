{
 "nbformat": 4,
 "nbformat_minor": 2,
 "metadata": {
  "language_info": {
   "name": "python",
   "codemirror_mode": {
    "name": "ipython",
    "version": 3
   }
  },
  "orig_nbformat": 2,
  "file_extension": ".py",
  "mimetype": "text/x-python",
  "name": "python",
  "npconvert_exporter": "python",
  "pygments_lexer": "ipython3",
  "version": 3
 },
 "cells": [
  {
   "cell_type": "markdown",
   "execution_count": null,
   "metadata": {},
   "outputs": [],
   "source": [
    "# 4.5 Compute Product Without Arithmetic Operators\n",
    "\n",
    "Write a program that multiplies two nonnegative integers.  The only operators you are allowed to use are:\n",
    "+ asignment  \n",
    "+ bitwise operators: `>>, <<, |, &, ~, ^`\n",
    "\n",
    "You may use loops and functions that you write yourself.  You cannot use increment or decrement, or test if $x<y$."
   ]
  },
  {
   "cell_type": "code",
   "execution_count": null,
   "metadata": {},
   "outputs": [],
   "source": []
  }
 ]
}