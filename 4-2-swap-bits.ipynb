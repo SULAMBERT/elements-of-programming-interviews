{
 "nbformat": 4,
 "nbformat_minor": 2,
 "metadata": {
  "language_info": {
   "name": "python",
   "codemirror_mode": {
    "name": "ipython",
    "version": 3
   }
  },
  "orig_nbformat": 2,
  "file_extension": ".py",
  "mimetype": "text/x-python",
  "name": "python",
  "npconvert_exporter": "python",
  "pygments_lexer": "ipython3",
  "version": 3
 },
 "cells": [
  {
   "cell_type": "markdown",
   "execution_count": null,
   "metadata": {},
   "outputs": [],
   "source": [
    "# 4.2 Swap Bits\n",
    "\n",
    "A 64-bit integer can be viewed as an array of 64 bits, with the bit at index 0 corresponding to the least significant bit (LSB), and the bit at index 63 corresponding to the most significant bit (MSB).  Implement code that takes as input a 64-bit integer and swaps the bits at indices $i$ and $j$."
   ]
  },
  {
   "cell_type": "markdown",
   "execution_count": null,
   "metadata": {},
   "outputs": [],
   "source": [
    "## Solution \n",
    "\n",
    "**Algorithm:**  \n",
    "\n",
    "1. Check if the bits are the same.  If the bits are the same, swapping has no effect on either integer\n",
    "2. If the bits are not the same, flip each bit. "
   ]
  },
  {
   "cell_type": "code",
   "execution_count": 1,
   "metadata": {},
   "outputs": [],
   "source": [
    "def swap_bits(x, i, j):\n",
    "    # Extract the i-th and j-th bits, and see if they differ.\n",
    "    if (x >> i) & 1 != (x >> j) & 1:\n",
    "        # i-th and j-th bits differ.  We swap them by flipping their values.\n",
    "        # Select the bits to flip with a bit mask.  \n",
    "        # Since x^1 = 0 when x = 1 and x^1 = 1 when x = 0, we can perform the flip XOR\n",
    "        bit_mask = (1 << i) | (1 << j) # can put both in the same mask\n",
    "        x ^= bit_mask\n",
    "    return x"
   ]
  },
  {
   "cell_type": "code",
   "execution_count": 5,
   "metadata": {},
   "outputs": [
    {
     "name": "stdout",
     "output_type": "stream",
     "text": "0b10001001100\n0b10001000101\n"
    }
   ],
   "source": [
    "num = 1100\n",
    "print(bin(num))\n",
    "num = swap_bits(num, 0, 3)\n",
    "print(bin(num))"
   ]
  },
  {
   "cell_type": "code",
   "execution_count": null,
   "metadata": {},
   "outputs": [],
   "source": []
  }
 ]
}