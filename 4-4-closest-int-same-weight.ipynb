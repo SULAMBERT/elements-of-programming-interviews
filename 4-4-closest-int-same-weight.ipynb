{
 "nbformat": 4,
 "nbformat_minor": 2,
 "metadata": {
  "language_info": {
   "name": "python",
   "codemirror_mode": {
    "name": "ipython",
    "version": 3
   },
   "version": "3.7.2-final"
  },
  "orig_nbformat": 2,
  "file_extension": ".py",
  "mimetype": "text/x-python",
  "name": "python",
  "npconvert_exporter": "python",
  "pygments_lexer": "ipython3",
  "version": 3,
  "kernelspec": {
   "name": "python3",
   "display_name": "Python 3"
  }
 },
 "cells": [
  {
   "cell_type": "markdown",
   "execution_count": null,
   "metadata": {},
   "outputs": [],
   "source": [
    "# 4.4 Find Closest Integer with Same Weight\n",
    "\n",
    "Define the *weight* of a nonnegative integer $x$ to be the number of bits that are set to 1 in its binary representation.  For example, since 92 in base-2 equals $(1011100)_2)$, the weight of 92 is 4.\n",
    "\n",
    "Write a program which takes as input a nonnegative integer $x$ and returns a number $y$ which is not equal to $x$, but has the same weight $x$ and their difference, $|y-x|$, is as small as possible.  \n",
    "\n",
    "**Assumptions:**  \n",
    "+ $x$ is not 0  \n",
    "+ $x$ is not all 1s  \n",
    "+ $x$ fits in 64 bits  \n",
    "\n",
    "**Example:**  \n",
    "+ $x = 6$\n",
    "+ return: 5\n",
    "\n",
    "**Hint:**  Start with LSB"
   ]
  },
  {
   "cell_type": "markdown",
   "execution_count": null,
   "metadata": {},
   "outputs": [],
   "source": [
    "## I. Solution\n",
    "\n",
    "**Algorithm:**  \n",
    "\n",
    "Suppose we flip the bit at index $k1$ and flip the bit at index $k2$, $k1 > k2$.  Then the absolute value of the difference  between the original integer and the new one is $2^{k_1} - 2^{k_2}$.  To minimize this, we should make $k_1$ as small as possible and $k_2$ as close to $k_1$.  \n",
    "\n",
    "Since we must preserve the weight, the bit at index $k_1$ has to be different from the bit in $k_2$, otherwise the flips lead to an integer with different weight.  This means that the smallest $k_1$ is the rightmost bit that is different from the LSB, and $k_2$ must be the very next bit.  In summary, swap the two rightmost consecutive bits that differ.  \n",
    "\n",
    "Time Complexity is $O(n)$, where $n$ is the integer width"
   ]
  },
  {
   "cell_type": "code",
   "execution_count": 1,
   "metadata": {},
   "outputs": [],
   "source": [
    "def closest_int_same_bit_count(x: int) -> int:\n",
    "    num_unsigned_bits = 64\n",
    "    for i in range(num_unsigned_bits - 1):\n",
    "        if (x >> i) & 1 != (x >> (i + 1)) & 1: # both k1 and k2 are set\n",
    "            x ^= (1 << i) | (1 << (i + 1)) # Swaps bit-i and bit-(i + 1)\n",
    "            return x\n",
    "\n",
    "    # Raise error if all bits of x are 0 or 1\n",
    "    raise ValueError('All bits are 0 or 1')"
   ]
  },
  {
   "cell_type": "code",
   "execution_count": 3,
   "metadata": {},
   "outputs": [
    {
     "name": "stdout",
     "output_type": "stream",
     "text": "0b10\n"
    }
   ],
   "source": [
    "num = 0b0001\n",
    "num = closest_int_same_bit_count(num)\n",
    "print(bin(num))"
   ]
  },
  {
   "cell_type": "markdown",
   "execution_count": null,
   "metadata": {},
   "outputs": [],
   "source": [
    "## II. Solution 2 - O(1) in time and space\n",
    "\n",
    "**Algorithm:**  \n",
    "+ Extract the lowest set bit with $(x \\small ~\\&~ \\normalsize ~(x - 1))$\n",
    "+ Extract the bit 1 bit lower than the lowest set bit\n",
    "+ Swap the two bits  "
   ]
  },
  {
   "cell_type": "code",
   "execution_count": 28,
   "metadata": {},
   "outputs": [],
   "source": [
    "def closest_int_same_bit_count(x: int) -> int:\n",
    "    lowest_set_bit = x & ~(x - 1)\n",
    "    lowest_not_set_bit = ~x & ~(~x - 1)\n",
    "\n",
    "    print(f\"LNSB = {bin(lowest_not_set_bit)}\")\n",
    "\n",
    "    if lowest_not_set_bit > lowest_set_bit:\n",
    "           return x + (lowest_not_set_bit - (lowest_not_set_bit >> 1))\n",
    "\n",
    "    return x - (lowest_set_bit - (lowest_set_bit >> 1))\n",
    "\n",
    "    # Raise error if all bits of x are 0 or 1\n",
    "    raise ValueError('All bits are 0 or 1')"
   ]
  },
  {
   "cell_type": "code",
   "execution_count": 30,
   "metadata": {},
   "outputs": [
    {
     "name": "stdout",
     "output_type": "stream",
     "text": "LNSB = 0b1\n0b10010\n"
    }
   ],
   "source": [
    "x = 0b10100\n",
    "x = closest_int_same_bit_count(x)\n",
    "print(bin(x))"
   ]
  },
  {
   "cell_type": "code",
   "execution_count": 27,
   "metadata": {},
   "outputs": [
    {
     "data": {
      "text/plain": "'0b10111'"
     },
     "execution_count": 27,
     "metadata": {},
     "output_type": "execute_result"
    }
   ],
   "source": [
    "bin(0b10101 + 0b00010)"
   ]
  },
  {
   "cell_type": "code",
   "execution_count": null,
   "metadata": {},
   "outputs": [],
   "source": []
  }
 ]
}