{
 "nbformat": 4,
 "nbformat_minor": 2,
 "metadata": {
  "language_info": {
   "name": "python",
   "codemirror_mode": {
    "name": "ipython",
    "version": 3
   },
   "version": "3.7.2-final"
  },
  "orig_nbformat": 2,
  "file_extension": ".py",
  "mimetype": "text/x-python",
  "name": "python",
  "npconvert_exporter": "python",
  "pygments_lexer": "ipython3",
  "version": 3,
  "kernelspec": {
   "name": "python3",
   "display_name": "Python 3"
  }
 },
 "cells": [
  {
   "cell_type": "markdown",
   "execution_count": null,
   "metadata": {},
   "outputs": [],
   "source": [
    "# 4. Primitive Types"
   ]
  },
  {
   "cell_type": "code",
   "execution_count": 8,
   "metadata": {},
   "outputs": [],
   "source": [
    "import sys"
   ]
  },
  {
   "cell_type": "markdown",
   "execution_count": null,
   "metadata": {},
   "outputs": [],
   "source": [
    "Write a program to count the number of bits that are set to 1 in a nonnegative integer.  The following program tests one bit at a time starting with the least significant bit.\n",
    "\n",
    "+ Time complexity is $O(n)$\n",
    "    + We perform $O(1)$ computation per bit\n",
    "    + where $n$ is the number of bits to represent the integer"
   ]
  },
  {
   "cell_type": "code",
   "execution_count": 4,
   "metadata": {},
   "outputs": [],
   "source": [
    "def count_bits(x: int) -> int:\n",
    "    num_bits = 0\n",
    "    while x:\n",
    "        num_bits += x & 1\n",
    "        x >>= 1\n",
    "    return num_bits"
   ]
  },
  {
   "cell_type": "markdown",
   "execution_count": 11,
   "metadata": {},
   "outputs": [
    {
     "data": {
      "text/plain": "sys.float_info(max=1.7976931348623157e+308, max_exp=1024, max_10_exp=308, min=2.2250738585072014e-308, min_exp=-1021, min_10_exp=-307, dig=15, mant_dig=53, epsilon=2.220446049250313e-16, radix=2, rounds=1)"
     },
     "execution_count": 11,
     "metadata": {},
     "output_type": "execute_result"
    }
   ],
   "source": [
    "## Bit-wise Operators\n",
    "\n",
    "+ `x << y` \n",
    "    + Returns x with the bits shifted to the left by y places (and new bits on the right-hand-side are zeros). This is the same as multiplying x by 2**y. \n",
    "+ `x >> y` \n",
    "    + Returns x with the bits shifted to the right by y places. This is the same as //'ing x by 2**y. \n",
    "+ `x & y` \n",
    "    + Does a \"bitwise and\". Each bit of the output is 1 if the corresponding bit of x AND of y is 1, otherwise it's 0. \n",
    "+ `x | y` \n",
    "    + Does a \"bitwise or\". Each bit of the output is 0 if the corresponding bit of x AND of y is 0, otherwise it's 1. \n",
    "+ `~ x` \n",
    "    + Returns the complement of x - the number you get by switching each 1 for a 0 and each 0 for a 1. This is the same as -x - 1. \n",
    "+ `x ^ y` \n",
    "    + Does a \"bitwise exclusive or\". Each bit of the output is the same as the corresponding bit in x if that bit in y is 0, and it's the complement of the bit in x if that bit in y is 1.\n",
    "    + The result of XORing two bits is the same as that of adding those two bits mod 2"
   ]
  },
  {
   "cell_type": "code",
   "execution_count": 19,
   "metadata": {},
   "outputs": [
    {
     "name": "stdout",
     "output_type": "stream",
     "text": "4\n3\n4\n-4\n1024\n-1\n13\n-16\n"
    }
   ],
   "source": [
    "print(6&4)\n",
    "print(1|2)\n",
    "print(8>>1)\n",
    "print(-16>>2)\n",
    "print(1<<10)\n",
    "print(~0)\n",
    "print(15^2)\n"
   ]
  },
  {
   "cell_type": "markdown",
   "execution_count": null,
   "metadata": {},
   "outputs": [],
   "source": [
    "## XOR Operator\n",
    "\n",
    "1. XORing all the elements in a boolean array would tell you if the array has an odd number of `true` elements.\n",
    "2. If yoou have an array with all elements repeating an even number of times except one that repeats an odd number of times, you can find it by XORing all elements in the array.\n",
    "3. Swapping values without using a temporary value.\n",
    "4. Find missing number in the `range(1,n)`.\n",
    "5. Basic validation of data sent over a network (parity)"
   ]
  },
  {
   "cell_type": "markdown",
   "execution_count": 10,
   "metadata": {},
   "outputs": [],
   "source": [
    "### I. Odd Number of True Elements in an Array\n",
    "\n",
    "XORing all the elements in a boolean array would tell you if the array has an odd number of `true` elements."
   ]
  },
  {
   "cell_type": "code",
   "execution_count": 7,
   "metadata": {},
   "outputs": [],
   "source": [
    "def odd_num_true(x: bool) -> bool:\n",
    "    result = 0\n",
    "    for i in range(len(x)):\n",
    "        result = result ^ x[i]\n",
    "    return result\n"
   ]
  },
  {
   "cell_type": "code",
   "execution_count": 9,
   "metadata": {},
   "outputs": [
    {
     "data": {
      "text/plain": "0"
     },
     "execution_count": 9,
     "metadata": {},
     "output_type": "execute_result"
    }
   ],
   "source": [
    "nums = [False, False, True, True]\n",
    "odd_num_true(nums)"
   ]
  },
  {
   "cell_type": "markdown",
   "execution_count": null,
   "metadata": {},
   "outputs": [],
   "source": [
    "### II. Single Number not Repeating in Array\n",
    "\n",
    "If you have an array with all elements repeating an even number of times except one that repeats an odd number of times, you can find it by XORing all elements in the array.\n"
   ]
  },
  {
   "cell_type": "code",
   "execution_count": 11,
   "metadata": {},
   "outputs": [],
   "source": [
    "def single_number(x: int) -> bool:\n",
    "    result = 0\n",
    "    for i in range(len(x)):\n",
    "        result = result ^ x[i]\n",
    "    return result"
   ]
  },
  {
   "cell_type": "code",
   "execution_count": 15,
   "metadata": {},
   "outputs": [
    {
     "data": {
      "text/plain": "1"
     },
     "execution_count": 15,
     "metadata": {},
     "output_type": "execute_result"
    }
   ],
   "source": [
    "nums = [0, 0, 1, 2, 2, 3, 3]\n",
    "odd_num_true(nums)"
   ]
  },
  {
   "cell_type": "markdown",
   "execution_count": null,
   "metadata": {},
   "outputs": [],
   "source": [
    "### III. Swapping Values\n",
    "\n",
    "Swapping values without using a temporary value.\n",
    "\n",
    "$~~~x~~~$ ^ $~~y$   \n",
    "$1010$ ^ $0011$ = $1001$ -> $x$  \n",
    "$1001$ ^ $0011$ = $1010$ -> $y$  \n",
    "$1001$ ^ $1010$ = $0011$ -> $x$  \n",
    "\n"
   ]
  },
  {
   "cell_type": "code",
   "execution_count": 17,
   "metadata": {},
   "outputs": [],
   "source": [
    "def swap_values(x: int, y: int) -> int:\n",
    "    x = x ^ y\n",
    "    y = x ^ y\n",
    "    x = x ^ y\n",
    "    return x, y"
   ]
  },
  {
   "cell_type": "code",
   "execution_count": 18,
   "metadata": {},
   "outputs": [
    {
     "data": {
      "text/plain": "(2, 1)"
     },
     "execution_count": 18,
     "metadata": {},
     "output_type": "execute_result"
    }
   ],
   "source": [
    "x, y = 1, 2\n",
    "swap_values(x,y)"
   ]
  },
  {
   "cell_type": "markdown",
   "execution_count": null,
   "metadata": {},
   "outputs": [],
   "source": [
    "### IV. Missing Number\n",
    "\n",
    "You are given a list of n-1 integers and these integers are in the range of 1 to n. There are no duplicates in the list. One of the integers is missing in the list. Write an efficient code to find the missing integer."
   ]
  },
  {
   "cell_type": "markdown",
   "execution_count": null,
   "metadata": {},
   "outputs": [],
   "source": [
    "**Algorithm 1 - Sum Formula:**  \n",
    "\n",
    "1. Get the sum of numbers which is total = n*(n+1)/2  \n",
    "2. Subtract all the numbers from sum and you will get the missing number  \n",
    "\n",
    "Time Complexity is $O(n)$"
   ]
  },
  {
   "cell_type": "code",
   "execution_count": 66,
   "metadata": {},
   "outputs": [],
   "source": [
    "def find_missing(a: int) -> int:\n",
    "    n = len(a) + 1 # 1 number is missing so add 1 to length\n",
    "    total = n * (n+1) / 2\n",
    "    a_sum = sum(a)\n",
    "    return total - a_sum"
   ]
  },
  {
   "cell_type": "code",
   "execution_count": 67,
   "metadata": {},
   "outputs": [
    {
     "data": {
      "text/plain": "1.0"
     },
     "execution_count": 67,
     "metadata": {},
     "output_type": "execute_result"
    }
   ],
   "source": [
    "nums = [2,3,4,5,6,7,8,9]\n",
    "find_missing(nums)"
   ]
  },
  {
   "cell_type": "markdown",
   "execution_count": null,
   "metadata": {},
   "outputs": [],
   "source": [
    "**Algorithm 1 Improvement - Integer Overflow:**\n",
    "\n",
    "There can be overflow if n is large. In order to avoid Integer Overflow, we can pick one number from known numbers and subtract one number from given numbers. This way we won’t have Integer Overflow ever. "
   ]
  },
  {
   "cell_type": "code",
   "execution_count": 64,
   "metadata": {},
   "outputs": [],
   "source": [
    "def find_missing(a: int) -> int:\n",
    "    n = len(a) + 1 # 1 number is missing so add 1 to length\n",
    "    total = n * (n+1) / 2\n",
    "    a_sum = sum(a)\n",
    "    return (total - a[0]) - (a_sum - a[0])"
   ]
  },
  {
   "cell_type": "code",
   "execution_count": 65,
   "metadata": {},
   "outputs": [
    {
     "data": {
      "text/plain": "1.0"
     },
     "execution_count": 65,
     "metadata": {},
     "output_type": "execute_result"
    }
   ],
   "source": [
    "nums = [2,3,4,5,6,7,8,9]\n",
    "find_missing(nums)"
   ]
  },
  {
   "cell_type": "markdown",
   "execution_count": null,
   "metadata": {},
   "outputs": [],
   "source": [
    "**Algorithm 2 - XOR:**  \n",
    "\n",
    "1. XOR all the array elements, let the result of XOR be $x_1$.  \n",
    "2. XOR all numbers from 1 to $n$, let XOR be $x_2$.  \n",
    "3. XOR of $x_1$ and $x_2$ gives the missing number.   \n",
    "\n",
    "Time Complexity is $O(n)$"
   ]
  },
  {
   "cell_type": "code",
   "execution_count": 72,
   "metadata": {},
   "outputs": [],
   "source": [
    "def find_missing(a: int) -> int:\n",
    "    n = len(a)\n",
    "    x1 = a[0]\n",
    "    x2 = 1\n",
    "\n",
    "    # XOR all numbers in array\n",
    "    for i in range(1, n):\n",
    "        x1 = x1 ^ a[i]\n",
    "\n",
    "    # XOR all numbers from 1 to n\n",
    "    for i in range(2, n + 2):\n",
    "        x2 = x2 ^ i\n",
    "\n",
    "    return x1 ^ x2\n"
   ]
  },
  {
   "cell_type": "code",
   "execution_count": 76,
   "metadata": {},
   "outputs": [
    {
     "data": {
      "text/plain": "2"
     },
     "execution_count": 76,
     "metadata": {},
     "output_type": "execute_result"
    }
   ],
   "source": [
    "nums = [1,3,4,5,6,7,8,9]\n",
    "find_missing(nums)"
   ]
  },
  {
   "cell_type": "code",
   "execution_count": null,
   "metadata": {},
   "outputs": [],
   "source": []
  }
 ]
}