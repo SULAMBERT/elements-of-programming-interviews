{
 "nbformat": 4,
 "nbformat_minor": 2,
 "metadata": {
  "language_info": {
   "name": "python",
   "codemirror_mode": {
    "name": "ipython",
    "version": 3
   }
  },
  "orig_nbformat": 2,
  "file_extension": ".py",
  "mimetype": "text/x-python",
  "name": "python",
  "npconvert_exporter": "python",
  "pygments_lexer": "ipython3",
  "version": 3
 },
 "cells": [
  {
   "cell_type": "markdown",
   "execution_count": null,
   "metadata": {},
   "outputs": [],
   "source": [
    "# 1. Getting Ready"
   ]
  },
  {
   "cell_type": "code",
   "execution_count": null,
   "metadata": {},
   "outputs": [],
   "source": [
    "\n"
   ]
  },
  {
   "cell_type": "markdown",
   "execution_count": null,
   "metadata": {},
   "outputs": [],
   "source": [
    "## General Advice (pg. 19)\n",
    "\n",
    "+ Know the company and interviewers\n",
    "+ Communicate clearly\n",
    "+ Be passionate\n",
    "+ Be honest\n",
    "+ Stay positive\n",
    "+ Don't apologize\n",
    "+ Leave perks and mony out\n",
    "+ Be well-groomed\n",
    "+ Mind your body language\n",
    "+ Be ready for a stressful day\n",
    "+ Learn from bad outcomes\n",
    "+ Negotiate the best offer"
   ]
  },
  {
   "cell_type": "markdown",
   "execution_count": null,
   "metadata": {},
   "outputs": [],
   "source": [
    "## At the Interview (pg. 15)\n",
    "+ Don't solve the wrong problem\n",
    "+ Get specs & requirements\n",
    "+ Work on concrete examples first\n",
    "+ Spell out the brute-force solution\n",
    "+ Think out loud\n",
    "+ Apply patterns\n",
    "+ Assume valid inputs\n",
    "+ Test for corner cases\n",
    "+ Use proper syntax\n",
    "+ Manage the whiteboard\n",
    "+ Be aware of memory management\n",
    "+Get function signatures right"
   ]
  },
  {
   "cell_type": "markdown",
   "execution_count": null,
   "metadata": {},
   "outputs": [],
   "source": [
    "## Conducting an Interview (pg. 21)\n",
    "\n",
    "+ Don't be indecisive\n",
    "+ Create a brand ambassador\n",
    "+ Coordinate with other interviewers\n",
    "    + know what to test on\n",
    "    + look for patterns of mistakes\n",
    "+ Characteristics of a good problem:\n",
    "    + no single point of failure\n",
    "    + has multiple solutions\n",
    "    + covers multiple areas\n",
    "    + is calibrated on colleagues\n",
    "    + does not require unnecessary domain knowlegde\n",
    "+ Control the conversation\n",
    "    + draw out quiet candidates\n",
    "    + manage verbose/overconfident candidates\n",
    "+ Use a process for recording and scoring\n",
    "+ Determine what training is needed\n",
    "+ Apply the litmus test\n"
   ]
  },
  {
   "cell_type": "markdown",
   "execution_count": null,
   "metadata": {},
   "outputs": [],
   "source": [
    "# 2. Language Review\n",
    "\n",
    "\n",
    "\n",
    "\n",
    "\n",
    "\n",
    "\n"
   ]
  },
  {
   "cell_type": "markdown",
   "execution_count": null,
   "metadata": {},
   "outputs": [],
   "source": [
    "## typehints"
   ]
  },
  {
   "cell_type": "markdown",
   "execution_count": null,
   "metadata": {},
   "outputs": [],
   "source": [
    "## inner functions"
   ]
  },
  {
   "cell_type": "markdown",
   "execution_count": null,
   "metadata": {},
   "outputs": [],
   "source": [
    "## lambdas"
   ]
  },
  {
   "cell_type": "markdown",
   "execution_count": null,
   "metadata": {},
   "outputs": [],
   "source": [
    "## collections"
   ]
  },
  {
   "cell_type": "markdown",
   "execution_count": null,
   "metadata": {},
   "outputs": [],
   "source": [
    "## all() & any()"
   ]
  },
  {
   "cell_type": "markdown",
   "execution_count": null,
   "metadata": {},
   "outputs": [],
   "source": [
    "## list comprehension"
   ]
  },
  {
   "cell_type": "markdown",
   "execution_count": null,
   "metadata": {},
   "outputs": [],
   "source": [
    "## map()"
   ]
  },
  {
   "cell_type": "markdown",
   "execution_count": null,
   "metadata": {},
   "outputs": [],
   "source": [
    "## functools.reduce() & zip()"
   ]
  },
  {
   "cell_type": "markdown",
   "execution_count": null,
   "metadata": {},
   "outputs": [],
   "source": [
    "## enumerate()"
   ]
  },
  {
   "cell_type": "markdown",
   "execution_count": null,
   "metadata": {},
   "outputs": [],
   "source": [
    "## `itertools` module\n",
    "\n",
    "+ `grouby()` - \n",
    "+ `accumulate()` - \n",
    "+ `product()` - \n",
    "+ `combinations()` - "
   ]
  },
  {
   "cell_type": "code",
   "execution_count": null,
   "metadata": {},
   "outputs": [],
   "source": []
  }
 ]
}