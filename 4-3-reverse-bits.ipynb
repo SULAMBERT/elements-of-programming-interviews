{
 "nbformat": 4,
 "nbformat_minor": 2,
 "metadata": {
  "language_info": {
   "name": "python",
   "codemirror_mode": {
    "name": "ipython",
    "version": 3
   },
   "version": "3.7.2-final"
  },
  "orig_nbformat": 2,
  "file_extension": ".py",
  "mimetype": "text/x-python",
  "name": "python",
  "npconvert_exporter": "python",
  "pygments_lexer": "ipython3",
  "version": 3,
  "kernelspec": {
   "name": "python3",
   "display_name": "Python 3"
  }
 },
 "cells": [
  {
   "cell_type": "markdown",
   "execution_count": null,
   "metadata": {},
   "outputs": [],
   "source": [
    "# 4.3 Reverse Bits\n",
    "\n",
    "Write a program that takes a 64-bit unsigned integer and returns the 64-bit unsigned integer consisting of the bits of the input in reverse order. \n",
    "\n",
    "**Example:**  \n",
    "\n",
    "Input: $(1110000000000001)$  \n",
    "Output: $(1000000000000111)$  \n",
    "\n",
    "(Hint) - Use a lookup table\n"
   ]
  },
  {
   "cell_type": "markdown",
   "execution_count": null,
   "metadata": {},
   "outputs": [],
   "source": [
    "## I. Solution - Brute Force\n",
    "\n",
    "**Algorithm:**  \n",
    "\n",
    "1. Iterate through the LSBs of the input  \n",
    "2. Swap each bit with the corresponding MSB  \n",
    "    + Use **Algoritm 4.2:**  \n",
    "        1. Check if the bits are the same. If the bits are the same, swapping has no effect on either integer.  \n",
    "        2. If the bits are not the same, flip each bit. \n",
    "\n",
    "Time Complexity $O(n/2)$ where $n$ is the number of bits "
   ]
  },
  {
   "cell_type": "code",
   "execution_count": 23,
   "metadata": {},
   "outputs": [],
   "source": [
    "def swap_bits(x, i, j):\n",
    "    # Extract the i-th and j-th bits, and see if they differ.\n",
    "    if (x >> i) & 1 != (x >> j) & 1:\n",
    "        # i-th and j-th bits differ.  We swap them by flipping their values.\n",
    "        # Select the bits to flip with a bit mask.  \n",
    "        # Since x^1 = 0 when x = 1 and x^1 = 1 when x = 0, we can perform the flip XOR\n",
    "        bit_mask = (1 << i) | (1 << j) # can put both in the same mask\n",
    "        x ^= bit_mask\n",
    "    return x\n",
    "\n",
    "def reverse_bits(x: int) -> int: \n",
    "    num_bits = 32 - 1\n",
    "    for i in range(num_bits):\n",
    "        j = num_bits - i\n",
    "        x = swap_bits(x, i, j)\n",
    "    return x"
   ]
  },
  {
   "cell_type": "code",
   "execution_count": 24,
   "metadata": {},
   "outputs": [
    {
     "name": "stdout",
     "output_type": "stream",
     "text": "0b10000000000000000000000000000000\n32\n"
    }
   ],
   "source": [
    "num = 0b0001\n",
    "num = reverse_bits(num)\n",
    "print(bin(num))\n",
    "print(num.bit_length())"
   ]
  },
  {
   "cell_type": "markdown",
   "execution_count": null,
   "metadata": {},
   "outputs": [],
   "source": [
    "## II. Solution - Use a Cache\n",
    "\n",
    "**Algorithm:**  \n",
    "\n",
    "Let the input consist of the four 16-bit intgers $y_3$, $y_2$, $y_1$, $y_0$, with $y_3$ holding the most significant bits.  Then the 16 LSBs in the reverse come from $y_3$.\n",
    "**Example:**  \n",
    "+ If $y_3 = (1110000000000001)$ then the 16 LSBs of the result are $(1000000000000111)$  \n",
    "\n",
    "1. Build an array-based lookup table $A$ such that for every 16-bit integer $y$, $A[y]$ holds the bit reversal of $y$.  \n",
    "2. Form the reverse of $x$ with the reverse of $y_0$ (the MSB positions), followed by reverse of $y_1$, followed by reverse of $y_2$, followed by reverse of $y_3$.  \n",
    "\n",
    "**Example:**  \n",
    "+ Lookup table $A[y] = \\{(00),(10),(01),(11)\\}$  \n",
    "+ Input: $(10010011)$  \n",
    "+ Ouput: rev$(11)$rev$(00)$rev$(01)$rev$(10)$\n",
    "\n",
    "Time Complexity $O(n/L)$ for $n$-bit integers and $L$-bit cache keys."
   ]
  },
  {
   "cell_type": "code",
   "execution_count": 47,
   "metadata": {},
   "outputs": [],
   "source": [
    "import numpy as np\n",
    "\n",
    "def reverse_bits(x: int) -> int:\n",
    "    mask_size = 16\n",
    "    bit_mask = 0xFFFF\n",
    "    PRECOMPUTED_REVERSE = [ 0b0000, \n",
    "                            0b1000, \n",
    "                            0b0100, \n",
    "                            0b1100,\n",
    "\n",
    "                            0b0010,\n",
    "                            0b1010, \n",
    "                            0b0110, \n",
    "                            0b1110,\n",
    "\n",
    "                            0b0001,\n",
    "                            0b1001, \n",
    "                            0b0101, \n",
    "                            0b1101,\n",
    "\n",
    "                            0b0011,\n",
    "                            0b1011, \n",
    "                            0b0111, \n",
    "                            0b1111]\n",
    "                            \n",
    "    return (PRECOMPUTED_REVERSE[x & bit_mask] << (3 * mask_size) \n",
    "            | PRECOMPUTED_REVERSE[(x >> (1 * mask_size)) & bit_mask] << (2 * mask_size) \n",
    "            | PRECOMPUTED_REVERSE[(x >> (2 * mask_size)) & bit_mask] << (1 * mask_size) \n",
    "            | PRECOMPUTED_REVERSE[(x >> (3 * mask_size)) & bit_mask])"
   ]
  },
  {
   "cell_type": "code",
   "execution_count": 48,
   "metadata": {},
   "outputs": [
    {
     "name": "stdout",
     "output_type": "stream",
     "text": "0b1000000000000000000000000000000000000000000000000000\n"
    }
   ],
   "source": [
    "num = np.int8(0b01)\n",
    "num = reverse_bits(num)\n",
    "print(bin(num))"
   ]
  },
  {
   "cell_type": "code",
   "execution_count": null,
   "metadata": {},
   "outputs": [],
   "source": []
  }
 ]
}