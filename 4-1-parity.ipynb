{
 "nbformat": 4,
 "nbformat_minor": 2,
 "metadata": {
  "language_info": {
   "name": "python",
   "codemirror_mode": {
    "name": "ipython",
    "version": 3
   },
   "version": "3.7.2-final"
  },
  "orig_nbformat": 2,
  "file_extension": ".py",
  "mimetype": "text/x-python",
  "name": "python",
  "npconvert_exporter": "python",
  "pygments_lexer": "ipython3",
  "version": 3,
  "kernelspec": {
   "name": "python3",
   "display_name": "Python 3"
  }
 },
 "cells": [
  {
   "cell_type": "markdown",
   "execution_count": null,
   "metadata": {},
   "outputs": [],
   "source": [
    "# 4.1 Computing the Parity of a Word\n",
    "\n",
    "The parity of a binary word is 1 if the number of 1s in the word is odd; otherwise, it is 0. \n",
    "+ parity of 1011 is 1\n",
    "+ parity of 10001000 is 0\n",
    "\n",
    "How would you compute the parity of a very large number of 64-bit words?"
   ]
  },
  {
   "cell_type": "markdown",
   "execution_count": null,
   "metadata": {},
   "outputs": [],
   "source": [
    "## I. Solution 1 - Brute Force\n",
    "\n",
    "+ Time complexity is $O(n)$, where $n$ is the word size"
   ]
  },
  {
   "cell_type": "code",
   "execution_count": null,
   "metadata": {},
   "outputs": [],
   "source": [
    "def parity(x: int) -> int:\n",
    "    result = 0\n",
    "    while x:\n",
    "        result ^= x & 1 # ((x & 1) + result) %% 2\n",
    "        x >>= 1\n",
    "    return result"
   ]
  },
  {
   "cell_type": "code",
   "execution_count": null,
   "metadata": {},
   "outputs": [],
   "source": [
    "x = 4\n",
    "print(x)\n",
    "print(x-1)\n",
    "print(x&(x-1))"
   ]
  },
  {
   "cell_type": "markdown",
   "execution_count": 4,
   "metadata": {},
   "outputs": [
    {
     "ename": "SyntaxError",
     "evalue": "invalid syntax (<ipython-input-4-72688eabf2a0>, line 3)",
     "output_type": "error",
     "traceback": [
      "\u001b[0;36m  File \u001b[0;32m\"<ipython-input-4-72688eabf2a0>\"\u001b[0;36m, line \u001b[0;32m3\u001b[0m\n\u001b[0;31m    We can improve  the algorithm by erasing the lowest set bit in a word in a single operation, thereby improving performance in the best (and average) cases.\u001b[0m\n\u001b[0m         ^\u001b[0m\n\u001b[0;31mSyntaxError\u001b[0m\u001b[0;31m:\u001b[0m invalid syntax\n"
     ]
    }
   ],
   "source": [
    "## II. Solution 2 - Slight Improvement\n",
    "\n",
    "We can improve  the algorithm by erasing the lowest set bit in a word in a single operation, thereby improving performance in the best (and average) cases.  \n",
    "\n",
    "Trick 1 - $x \\small ~\\&~ (x-1)$ equals $x$ with it's lowest set bit erased. \n",
    "+ $x = (00101100)_2$\n",
    "+ $x-1 = (00101011)_2$\n",
    "+ $x \\small ~\\&~ \\normalsize (x-1) = (00101100)_2 \\small ~\\&~ \\normalsize (00101011)_2 = (0010100)_2$\n",
    "\n",
    "Trick 2 - $x \\small ~\\&~ ~(x-1)$ equals $x$ isolates the lowest bit that is 1 in $x$\n",
    "\n",
    "Time complexity is $O(k)$ where $k$ is the number of bits set to $1$ in a particular word."
   ]
  },
  {
   "cell_type": "code",
   "execution_count": 0,
   "metadata": {},
   "outputs": [],
   "source": [
    "def parity(x: int) -> int:\n",
    "    result = 0\n",
    "    while x:\n",
    "        result ^= 1\n",
    "        x &= x - 1 # drops the lowest set bit of x\n",
    "    return x"
   ]
  },
  {
   "cell_type": "markdown",
   "execution_count": null,
   "metadata": {},
   "outputs": [],
   "source": [
    "## III. Solution 3 - Caching"
   ]
  },
  {
   "cell_type": "code",
   "execution_count": 0,
   "metadata": {},
   "outputs": [],
   "source": [
    "def parity(x: int) -> int:\n",
    "    mask_size = 16\n",
    "    bit_mask = 0xFFFF\n",
    "    return (PRECOMPUTED_PARITY[x >> (3 * mask_size)] ^\n",
    "            PRECOMPUTED_PARITY[(x >> (2 * mask_size)) & bit_mask] ^\n",
    "            PRECOMPUTED_PARITY[(x >> (mask_size)) & bit_mask] ^\n",
    "            PRECOMPUTED_PARITY[x & bit_mask])"
   ]
  },
  {
   "cell_type": "code",
   "execution_count": null,
   "metadata": {},
   "outputs": [],
   "source": [
    "def parity(x: int) -> int:\n",
    "    x ^= x >> 32\n",
    "    x ^= x >> 16\n",
    "    x ^= x >> 8\n",
    "    x ^= x >> 4\n",
    "    x ^= x >> 2\n",
    "    x ^= x >> 1\n",
    "    return x & 0x1"
   ]
  }
 ]
}