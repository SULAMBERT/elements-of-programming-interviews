{
 "nbformat": 4,
 "nbformat_minor": 2,
 "metadata": {
  "language_info": {
   "name": "python",
   "codemirror_mode": {
    "name": "ipython",
    "version": 3
   }
  },
  "orig_nbformat": 2,
  "file_extension": ".py",
  "mimetype": "text/x-python",
  "name": "python",
  "npconvert_exporter": "python",
  "pygments_lexer": "ipython3",
  "version": 3
 },
 "cells": [
  {
   "cell_type": "markdown",
   "execution_count": null,
   "metadata": {},
   "outputs": [],
   "source": [
    "# Strageties for a Great Interview"
   ]
  },
  {
   "cell_type": "markdown",
   "execution_count": null,
   "metadata": {},
   "outputs": [],
   "source": [
    "## I. Approaching the Problem\n",
    "\n",
    "### Clarify the Question\n",
    "\n",
    "+ state a concrete instance of the problem to make sure you and the interviewer are on the same page.\n",
    "+ ask the interviewer what time and space complexity they would like in your solution.\n",
    "\n",
    "### Work on concrete examples\n",
    "+ can give some insights with simpler examples\n",
    "\n",
    "### Spell out the brute-force solution\n",
    "+ helps you explore opportunities for optimization and hence reach a better result\n",
    "+ give you an opportunity to demonstrate some problem solving and coding skills\n",
    "+ establishes that both you and the interviewer are considering the same problem\n",
    "\n",
    "### Think out loud\n",
    "+ increases your chances of finding the correct solution because it forces you to put your thoughts in a coherent manner\n",
    "+ helps the interviewer guide your thought process in the right direction\n",
    "\n",
    "### Apply patterns\n",
    "+ find a good data structure\n",
    "+ see if the problem is a good fit for a general algorithm (e.g. divide-and-conquer, recursion, dynamic programming, mapping problem to a graph)"
   ]
  },
  {
   "cell_type": "markdown",
   "execution_count": null,
   "metadata": {},
   "outputs": [],
   "source": [
    "## II. Presenting the Solution\n",
    "\n",
    "### Use libraries\n",
    "\n",
    "### Focus on top-level algorithm:\n",
    "+ Defer functions for later implementation (hash, equal, compare)\n",
    "+ add TODO comments to portions that you want to come back to\n",
    "\n",
    "### Manage the whiteboard\n",
    "+ skip implementing anything trivial (e.g. max of an array)\n",
    "+ have a convention for identifiers\n",
    "    + `i,j,k` for array indices\n",
    "    + `A,B,C` for arrays\n",
    "    + `s` for `string`\n",
    "    + `d` for `dict`\n",
    "### Assume valid inputs - make sure to clarify this with the instructor\n",
    "\n",
    "### Test for corner cases\n",
    "\n",
    "### Syntax \n",
    "+ make a pass at the end to fix any obvious syntax mistakes\n",
    "\n",
    "### Memory management\n",
    "+ avoid memory management operations altogether\n",
    "+ see if you can reuse space, such as in reusing a linked list\n",
    "\n",
    "### The interviewer is not Alan Turing\n",
    "+ If your solution is >50 lines it's a sign you're on the wrong track\n"
   ]
  },
  {
   "cell_type": "code",
   "execution_count": null,
   "metadata": {},
   "outputs": [],
   "source": []
  }
 ]
}